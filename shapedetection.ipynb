{
 "cells": [
  {
   "cell_type": "markdown",
   "metadata": {},
   "source": [
    "%md\n",
    "# Import von den benötigten Bibliotheken"
   ]
  },
  {
   "cell_type": "code",
   "execution_count": null,
   "metadata": {},
   "outputs": [],
   "source": [
    "import cv2\n",
    "import numpy as np\n",
    "from matplotlib import pyplot as plt"
   ]
  },
  {
   "cell_type": "markdown",
   "metadata": {},
   "source": [
    "%md\n",
    "# Definition von der Funktion det_conturs, um die Anzahlh von den Kanten zu bestimmen. "
   ]
  },
  {
   "cell_type": "code",
   "execution_count": null,
   "metadata": {},
   "outputs": [],
   "source": [
    "def get_contours(image):\n",
    "    contours, hierarchy = cv2.findContours(image, cv2.RETR_EXTERNAL, cv2.CHAIN_APPROX_NONE)\n",
    "\n",
    "    for cnt in contours:\n",
    "        area = cv2.contourArea(cnt)  #Diese Funktion wird verwendet, um die Fläche des Umrisses zu finden.\n",
    "        print(\"Area: \", area)\n",
    "        cv2.drawContours(imageContour, cnt, -1, (255,0,0), 3)  #Konturen zeichnen\n",
    "        perimeter = cv2.arcLength(cnt, True)  #Überprüfen, ob die Konturen geschlosen sind\n",
    "        print(\"Perimeter: \", perimeter)\n",
    "        approx = cv2.approxPolyDP(cnt, 0.02*perimeter, True)  #Anzahl der Konturen zu finden\n",
    "        print(\"Corner Points: \", len(approx))\n",
    "        objCorner = len(approx)\n",
    "        x,y,w,h = cv2.boundingRect(approx)  #erkannte Objekte gekenzeichnen\n",
    "\n",
    "        if objCorner == 3:\n",
    "            objectType = 'Dreieck'\n",
    "\n",
    "        elif objCorner == 4:\n",
    "            objectType = 'Rechteck'\n",
    "\n",
    "        elif objCorner > 4:\n",
    "            objectType = 'Creis'\n",
    "\n",
    "        else:\n",
    "            objectType = \"None\"\n",
    "\n",
    "        cv2.rectangle(imageContour, (x, y), (x+w, y+h), (0, 255, 0), 2)  #Ein Rechteck wird um die identifizierten Objekte gezeichnet\n",
    "        cv2.putText(imageContour, objectType, (x+(w//2)-10, (y - 20)), cv2.FONT_HERSHEY_COMPLEX, 0.5 , (0, 0, 0), 2)  #Beschriftung hinzufuegen\n"
   ]
  },
  {
   "cell_type": "markdown",
   "metadata": {},
   "source": [
    "# Das Bild laden"
   ]
  },
  {
   "cell_type": "code",
   "execution_count": null,
   "metadata": {},
   "outputs": [],
   "source": [
    "#image = cv2.imread(\"source/flaschendeckel.jpeg\")\n",
    "image = cv2.imread(\"source/shapes_v2.png\")\n",
    "imageContour = image.copy()\n"
   ]
  },
  {
   "cell_type": "markdown",
   "metadata": {},
   "source": [
    "% md\n",
    "# Preprozessing Schritte und die Funktion 'get_cotours' aufrufen"
   ]
  },
  {
   "cell_type": "code",
   "execution_count": null,
   "metadata": {},
   "outputs": [],
   "source": [
    "image_gray = cv2.cvtColor(image, cv2.COLOR_BGR2GRAY)\n",
    "image_blur = cv2.GaussianBlur(image_gray, (7, 7), 1)\n",
    "imageCanny = cv2.Canny(image_blur, 50, 50)\n",
    "get_contours(imageCanny)"
   ]
  },
  {
   "cell_type": "markdown",
   "metadata": {},
   "source": [
    "% md \n",
    "# Anschliesend werden alle Zwischenschritte und Endergebniss angezeigt"
   ]
  },
  {
   "cell_type": "code",
   "execution_count": null,
   "metadata": {},
   "outputs": [],
   "source": [
    "# Alle Bilder werden aufeinander angezeigt.\n",
    "cv2.imshow(\"Original Image\", image)\n",
    "cv2.imshow(\"Gray Image\", image_gray)\n",
    "cv2.imshow(\"Canny Image\", imageCanny)\n",
    "cv2.imshow(\"Contour Image\", imageContour)\n",
    "cv2.imwrite(\"source/shapeOutput.png\", imageContour)\n",
    "cv2.waitKey(0)\n",
    "cv2.destroyAllWindows()\n",
    "\n",
    "titles = ['original image','image in gray scale', 'canny image ', 'countour image']\n",
    "images = [image, image_gray, imageCanny, imageContour]\n"
   ]
  }
 ],
 "metadata": {
  "kernelspec": {
   "display_name": "Python 3",
   "language": "python",
   "name": "python3"
  },
  "language_info": {
   "codemirror_mode": {
    "name": "ipython",
    "version": 3
   },
   "file_extension": ".py",
   "mimetype": "text/x-python",
   "name": "python",
   "nbconvert_exporter": "python",
   "pygments_lexer": "ipython3",
   "version": "3.9.6"
  },
  "orig_nbformat": 4
 },
 "nbformat": 4,
 "nbformat_minor": 2
}
